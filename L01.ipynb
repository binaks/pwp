{
  "nbformat": 4,
  "nbformat_minor": 0,
  "metadata": {
    "colab": {
      "name": "L01.ipynb",
      "version": "0.3.2",
      "provenance": [],
      "include_colab_link": true
    },
    "kernelspec": {
      "name": "python3",
      "display_name": "Python 3"
    }
  },
  "cells": [
    {
      "cell_type": "markdown",
      "metadata": {
        "id": "view-in-github",
        "colab_type": "text"
      },
      "source": [
        "[View in Colaboratory](https://colab.research.google.com/github/binaks/pwp/blob/master/L01.ipynb)"
      ]
    },
    {
      "metadata": {
        "id": "8c9BgRzpYD7A",
        "colab_type": "code",
        "colab": {
          "base_uri": "https://localhost:8080/",
          "height": 35
        },
        "outputId": "3fecfc08-af8d-409e-aa58-8a2f26686187"
      },
      "cell_type": "code",
      "source": [
        "2 + 1\n",
        "2 - 1\n",
        "2 * 2\n",
        "3 / 2\n",
        "2 ** 3\n",
        "4 ** 0.5\n",
        "2 + 10 * 10 + 3\n",
        "a = 5\n",
        "a + a\n",
        "a = 10\n",
        "a\n",
        "a = a + a\n",
        "a\n",
        "my_income = 100\n",
        "tax_rate = 0.1\n",
        "my_taxes = my_income*tax_rate\n",
        "my_taxes"
      ],
      "execution_count": 14,
      "outputs": [
        {
          "output_type": "execute_result",
          "data": {
            "text/plain": [
              "10.0"
            ]
          },
          "metadata": {
            "tags": []
          },
          "execution_count": 14
        }
      ]
    },
    {
      "metadata": {
        "id": "yD7_XsvLrYbA",
        "colab_type": "code",
        "colab": {
          "base_uri": "https://localhost:8080/",
          "height": 219
        },
        "outputId": "392f3c12-4a0c-4eb6-89ef-0eda1864b366"
      },
      "cell_type": "code",
      "source": [
        "'hello'\n",
        "'This is also a string'\n",
        "\"String built with double quotes\"\n",
        "\"Now I'm ready to use the single quotes inside a string!\"\n",
        "'Hello World'\n",
        "\n",
        "print('Hello World 1')\n",
        "print('Hello World 2')\n",
        "print('Use \\n to print a new line')\n",
        "print('\\n')\n",
        "print('See what I mean?')\n",
        "\n",
        "s = 'Hello World'\n",
        "\n",
        "s\n",
        "\n",
        "s[0]\n",
        "s[1]\n",
        "s[2]\n",
        "s[1:]\n",
        "s\n",
        "s[3:]\n",
        "s[:]\n",
        "s[-1]\n",
        "s[:-1]\n",
        "s[::1]\n",
        "s[::2]\n",
        "s[::-1]\n",
        "s\n",
        "\n",
        "s + ' concatenate me!'\n",
        "\n",
        "s = s + ' concatenate me!'\n",
        "\n",
        "print(s)\n",
        "\n",
        "letter = 'z'\n",
        "letter*10\n",
        "\n",
        "s.upper()\n",
        "s.lower()\n",
        "s.split()\n",
        "s.split('W')\n",
        "\n",
        "'Insert another string with curly brackets: {}'.format('The inserted string')\n",
        "\n",
        "print('This is a string with an {p}'.format(p='insert'))\n",
        "\n",
        "print('One: {p}, Two: {p}, Three: {p}'.format(p='Hi'))\n",
        "\n",
        "print('Object 1: {a}, Object 2: {b}, Object 3: {c}'.format(a=1,b='two',c=12.3))"
      ],
      "execution_count": 54,
      "outputs": [
        {
          "output_type": "stream",
          "text": [
            "Hello World 1\n",
            "Hello World 2\n",
            "Use \n",
            " to print a new line\n",
            "\n",
            "\n",
            "See what I mean?\n",
            "Hello World concatenate me!\n",
            "This is a string with an insert\n",
            "One: Hi, Two: Hi, Three: Hi\n",
            "Object 1: 1, Object 2: two, Object 3: 12.3\n"
          ],
          "name": "stdout"
        }
      ]
    },
    {
      "metadata": {
        "id": "n1z6R4Rh0DNA",
        "colab_type": "code",
        "colab": {
          "base_uri": "https://localhost:8080/",
          "height": 35
        },
        "outputId": "1003666d-6a46-462f-98d8-84969ff65262"
      },
      "cell_type": "code",
      "source": [
        "my_list = [1,2,3]\n",
        "my_list = ['A string',23,100.232,'o']\n",
        "\n",
        "len(my_list)\n",
        "\n",
        "my_list = ['one', 'two', 'three', 4, 5]\n",
        "\n",
        "my_list[0]\n",
        "my_list[1:]\n",
        "my_list[:3]\n",
        "\n",
        "my_list = my_list + ['new item']\n",
        "my_list\n",
        "\n",
        "my_list * 2\n",
        "my_list\n",
        "\n",
        "l = [1,2,3]\n",
        "l.append('append me!')\n",
        "l\n",
        "\n",
        "l.pop(0)\n",
        "l\n",
        "\n",
        "popped_item = l.pop()\n",
        "popped_item\n",
        "l\n",
        "\n",
        "new_list = ['a', 'e', 'x', 'b', 'c']\n",
        "new_list\n",
        "\n",
        "new_list.reverse()\n",
        "new_list\n",
        "\n",
        "new_list.sort()\n",
        "new_list\n",
        "\n",
        "lst_1=[1,2,3]\n",
        "lst_2=[4,5,6]\n",
        "lst_3=[7,8,9]\n",
        "\n",
        "matrix = [lst_1,lst_2,lst_3]\n",
        "\n",
        "matrix\n",
        "\n",
        "matrix[0]\n",
        "matrix[0][0]\n",
        "\n",
        "first_col = [row[0] for row in matrix]\n",
        "\n",
        "first_col"
      ],
      "execution_count": 87,
      "outputs": [
        {
          "output_type": "execute_result",
          "data": {
            "text/plain": [
              "[1, 4, 7]"
            ]
          },
          "metadata": {
            "tags": []
          },
          "execution_count": 87
        }
      ]
    },
    {
      "metadata": {
        "id": "Pd_QIZ-T3cbY",
        "colab_type": "code",
        "colab": {
          "base_uri": "https://localhost:8080/",
          "height": 35
        },
        "outputId": "a09d87ee-1aed-4ab9-c5d9-004748341ba1"
      },
      "cell_type": "code",
      "source": [
        "my_dict  = {'key1':'value1', 'key2':'value2'}\n",
        "\n",
        "my_dict['key2']\n",
        "\n",
        "my_dict = {'key1':123,'key2':[12,23,33],'key3':['item0','item1','item2']}\n",
        "my_dict['key3']\n",
        "my_dict['key3'][0]\n",
        "my_dict['key3'][0].upper()\n",
        "\n",
        "my_dict['key1']\n",
        "my_dict['key1'] = my_dict['key1'] - 123\n",
        "my_dict['key1']\n",
        "\n",
        "my_dict['key1'] -= 123\n",
        "my_dict['key1']\n",
        "\n",
        "d = {}\n",
        "d['animal'] = 'Dog'\n",
        "d['answer'] = 42\n",
        "d\n",
        "\n",
        "d = {'key1':{'nestkey':{'subnestkey':'value'}}}\n",
        "d['key1']['nestkey']['subnestkey']\n",
        "\n",
        "d = {'key1':1, 'key2':2, 'key3':3}\n",
        "d.keys()\n",
        "d.values()\n",
        "d.items()"
      ],
      "execution_count": 107,
      "outputs": [
        {
          "output_type": "execute_result",
          "data": {
            "text/plain": [
              "dict_items([('key1', 1), ('key2', 2), ('key3', 3)])"
            ]
          },
          "metadata": {
            "tags": []
          },
          "execution_count": 107
        }
      ]
    },
    {
      "metadata": {
        "id": "h58fIog46xUy",
        "colab_type": "code",
        "colab": {}
      },
      "cell_type": "code",
      "source": [
        "t = (1,2,3)\n",
        "len(t)\n",
        "t = ('one',2)\n",
        "t\n",
        "\n",
        "t[0]\n",
        "t[-1]\n",
        "\n",
        "t.index('one')\n",
        "t.count('one')\n",
        "\n",
        "# tuples can't change (no adding new elements, no changing the current elements)\n",
        "\n",
        "x = set()\n",
        "x.add(1)\n",
        "x\n",
        "x.add(2)\n",
        "x\n",
        "x.add(1)\n",
        "x\n",
        "\n",
        "l = [1,1,2,2,3,4,5,6,1,1]\n",
        "set(l)\n",
        "\n",
        "a = True\n",
        "a\n",
        "\n",
        "1 > 2\n",
        "\n",
        "b = None"
      ],
      "execution_count": 0,
      "outputs": []
    },
    {
      "metadata": {
        "id": "RZ85AOfc9BG4",
        "colab_type": "code",
        "colab": {
          "base_uri": "https://localhost:8080/",
          "height": 35
        },
        "outputId": "71b4f701-5925-48dd-b9e8-ca3d91d66478"
      },
      "cell_type": "code",
      "source": [
        "s = 'django'\n",
        "s[0]\n",
        "s[-1]\n",
        "s[:4]\n",
        "s[1:4]\n",
        "s[4:]\n",
        "s[::-1]\n",
        "\n",
        "l = [3,7,[1,4,'hello']]\n",
        "l[2][2] = 'goodbye'\n",
        "l\n",
        "\n",
        "d1 = {'simple_key':'hello'}\n",
        "d2 = {'k1':{'k2':'hello'}}\n",
        "d3 = {'k1':[{'nest_key':['this is deep',['hello']]}]}\n",
        "\n",
        "d1['simple_key']\n",
        "d2['k1']['k2']\n",
        "d3['k1'][0]['nest_key'][1][0]\n",
        "\n",
        "mylist = [1,1,1,1,1,2,2,2,2,3,3,3,3]\n",
        "set(mylist)\n",
        "\n",
        "age = 4\n",
        "name = \"Sammy\"\n",
        "\n",
        "print(\"Hello my dog's name is {name} and he is {age} years old\".format(name=name, age=age))"
      ],
      "execution_count": 155,
      "outputs": [
        {
          "output_type": "stream",
          "text": [
            "Hello my dog's name is Sammy and he is 4 years old\n"
          ],
          "name": "stdout"
        }
      ]
    },
    {
      "metadata": {
        "id": "c8XYbMytA_Zb",
        "colab_type": "code",
        "colab": {
          "base_uri": "https://localhost:8080/",
          "height": 1119
        },
        "outputId": "b1a2de55-593a-4316-a786-d140dbad9acc"
      },
      "cell_type": "code",
      "source": [
        "1 > 2\n",
        "1 < 2\n",
        "1 >= 1\n",
        "1 <= 4\n",
        "1 == 1\n",
        "1 == \"1\"\n",
        "'hi' == 'bye'\n",
        "1 != 2\n",
        "\n",
        "(1 > 2) and (2 < 3)\n",
        "(1 > 2) or (2 < 3)\n",
        "(1 == 2) or (2 == 3) or (4 == 4)\n",
        "\n",
        "if 1 < 2:\n",
        "    print('Yep!')\n",
        "if 1 < 2:\n",
        "    print('yep!')\n",
        "    \n",
        "if 1 < 2:\n",
        "    print('first')\n",
        "else:\n",
        "    print('last')\n",
        "    \n",
        "if 1 > 2:\n",
        "    print('first')\n",
        "else:\n",
        "    print('last')\n",
        "\n",
        "if 1 == 2:\n",
        "    print('first')\n",
        "elif 3 == 3:\n",
        "    print('middle')\n",
        "else:\n",
        "    print('Last')\n",
        "    \n",
        "seq = [1,2,3,4,5]\n",
        "\n",
        "for item in seq:\n",
        "    print (item)\n",
        "  \n",
        "for item in seq:\n",
        "    print('Yep')\n",
        "  \n",
        "for jelly in seq:\n",
        "    print(jelly + jelly)\n",
        "    \n",
        "print('\\n')\n",
        "  \n",
        "ages = {\"Sam\":3,\"Frank\":4,\"Dan\":29}\n",
        "\n",
        "for key in ages:\n",
        "    print(\"This is the key\")\n",
        "    print(key)\n",
        "    print(\"This is the value\")\n",
        "    print(ages[key])\n",
        "    print('\\n')\n",
        "    \n",
        "mypairs = [(1,10),(3,30),(5,50)]\n",
        "\n",
        "for tup in mypairs:\n",
        "    print(tup)\n",
        "    \n",
        "for item1,item2 in mypairs:\n",
        "    print(item1)\n",
        "    print(item2)\n",
        "    \n",
        "i = 1\n",
        "while i < 5:\n",
        "    print('i is: {}'.format(i))\n",
        "    i = i+1\n",
        "    \n",
        "range (5)\n",
        "list(range(5))\n",
        "\n",
        "for i in range(5):\n",
        "    print(i)\n",
        "\n",
        "range(1,10)\n",
        "range(0,10,2)\n",
        "\n",
        "x = [1,2,3,4]\n",
        "\n",
        "out = []\n",
        "for item in x:\n",
        "    out.append(item**2)\n",
        "print(out)\n",
        "\n",
        "[item**2 for item in x]"
      ],
      "execution_count": 192,
      "outputs": [
        {
          "output_type": "stream",
          "text": [
            "Yep!\n",
            "yep!\n",
            "first\n",
            "last\n",
            "middle\n",
            "1\n",
            "2\n",
            "3\n",
            "4\n",
            "5\n",
            "Yep\n",
            "Yep\n",
            "Yep\n",
            "Yep\n",
            "Yep\n",
            "2\n",
            "4\n",
            "6\n",
            "8\n",
            "10\n",
            "\n",
            "\n",
            "This is the key\n",
            "Sam\n",
            "This is the value\n",
            "3\n",
            "\n",
            "\n",
            "This is the key\n",
            "Frank\n",
            "This is the value\n",
            "4\n",
            "\n",
            "\n",
            "This is the key\n",
            "Dan\n",
            "This is the value\n",
            "29\n",
            "\n",
            "\n",
            "(1, 10)\n",
            "(3, 30)\n",
            "(5, 50)\n",
            "1\n",
            "10\n",
            "3\n",
            "30\n",
            "5\n",
            "50\n",
            "i is: 1\n",
            "i is: 2\n",
            "i is: 3\n",
            "i is: 4\n",
            "0\n",
            "1\n",
            "2\n",
            "3\n",
            "4\n",
            "[1, 4, 9, 16]\n"
          ],
          "name": "stdout"
        },
        {
          "output_type": "execute_result",
          "data": {
            "text/plain": [
              "[1, 4, 9, 16]"
            ]
          },
          "metadata": {
            "tags": []
          },
          "execution_count": 192
        }
      ]
    },
    {
      "metadata": {
        "id": "BI3s8HhbJUk3",
        "colab_type": "code",
        "colab": {
          "base_uri": "https://localhost:8080/",
          "height": 201
        },
        "outputId": "7d8fb906-f4ff-48fe-dfcb-303ea5f4722a"
      },
      "cell_type": "code",
      "source": [
        "def my_func(param1='default'):\n",
        "    \"\"\"\n",
        "    Docstring goes here.\n",
        "    \"\"\"\n",
        "    print(param1)\n",
        "    \n",
        "def hello():\n",
        "    print(\"hello\")\n",
        "\n",
        "hello()\n",
        "\n",
        "def giveMeHello():\n",
        "    return \"hello\"\n",
        "  \n",
        "result = giveMeHello()\n",
        "print(result)\n",
        "\n",
        "def evenCheck(num):\n",
        "    print(\"I'm checking to see if {} is even!\".format(num))\n",
        "    \n",
        "    print(num%2 == 0)\n",
        "    \n",
        "evenCheck(41)\n",
        "\n",
        "def helloYou(name=\"Default Name\"):\n",
        "    return(\"Hello, \" + name)\n",
        "  \n",
        "result = helloYou(\"Bianca\")\n",
        "print (result)\n",
        "\n",
        "def addEvenOnly(num1,num2):\n",
        "    \"\"\"\n",
        "    INPUT: Two numbers\n",
        "    OUTPUT: False if both numbers are not even,\n",
        "    the sum if both numbers are even\n",
        "    \"\"\"\n",
        "    if (num1 % 2 != 0) or (num2 % 2 != 0):\n",
        "        return False\n",
        "    else:\n",
        "        return num1+num2\n",
        "      \n",
        "x = addEvenOnly(1,2)\n",
        "y = addEvenOnly(2,2)\n",
        "print(x)\n",
        "print(y)\n",
        "\n",
        "def timesTwo(num):\n",
        "    return num*2\n",
        "  \n",
        "lambda num: num*2\n",
        "\n",
        "my_list = [1,2,3,4,5,6,7,8,9,10]\n",
        "\n",
        "def evenBool(num):\n",
        "    return num%2 == 0\n",
        "  \n",
        "evens = filter(evenBool,my_list)\n",
        "print(list(evens))\n",
        "\n",
        "evens = filter(lambda num: num%2 == 0, my_list)\n",
        "print(list(evens))\n",
        "\n",
        "st = 'hello my name is Sam'\n",
        "st.lower()\n",
        "st.upper()\n",
        "st.split()\n",
        "\n",
        "tweet = 'Go Sports! #Sports'\n",
        "tweet.split('#')\n",
        "tweet.split('#')[1]\n",
        "\n",
        "d = {'k1':1,'k2':2}\n",
        "d.keys()\n",
        "d.items()\n",
        "\n",
        "lst = [1,2,3]\n",
        "x = lst.pop()\n",
        "\n",
        "'x' in [1,2,3]\n",
        "'x' in ['x','y','z']"
      ],
      "execution_count": 222,
      "outputs": [
        {
          "output_type": "stream",
          "text": [
            "hello\n",
            "hello\n",
            "I'm checking to see if 41 is even!\n",
            "False\n",
            "Hello, Bianca\n",
            "False\n",
            "4\n",
            "[2, 4, 6, 8, 10]\n",
            "[2, 4, 6, 8, 10]\n"
          ],
          "name": "stdout"
        },
        {
          "output_type": "execute_result",
          "data": {
            "text/plain": [
              "True"
            ]
          },
          "metadata": {
            "tags": []
          },
          "execution_count": 222
        }
      ]
    },
    {
      "metadata": {
        "id": "vl5UfkUIUB32",
        "colab_type": "code",
        "colab": {
          "base_uri": "https://localhost:8080/",
          "height": 35
        },
        "outputId": "df8a1b64-9468-4f98-883e-6f95bdcd32b1"
      },
      "cell_type": "code",
      "source": [
        "def arrayCheck(nums = []):\n",
        "    for num in range(len(nums) - 2):\n",
        "        if nums[num] == 1:\n",
        "            if nums[num+1] == 2:\n",
        "                if nums[num+2] == 3:\n",
        "                    return True\n",
        "    return False\n",
        "  \n",
        "arrayCheck([1, 1, 2, 3, 1])\n",
        "arrayCheck([1, 1, 2, 4, 1])\n",
        "arrayCheck([1, 1, 2, 1, 2, 3])\n",
        "\n",
        "def stringBits(str):\n",
        "    return (str[::2])\n",
        "    \n",
        "stringBits('Hello')\n",
        "stringBits('Hi')\n",
        "stringBits('Heeololeo')\n",
        "\n",
        "def end_other(a, b):\n",
        "    a = a.lower()[::-1]\n",
        "    b = b.lower()[::-1]\n",
        "\n",
        "    if len(b) >= len(a):\n",
        "        length = len(a)\n",
        "    else:\n",
        "        length = len(b)\n",
        "\n",
        "    for i in range(length):\n",
        "        if a[i] != b[i]:\n",
        "            return False\n",
        "    return True\n",
        "\n",
        "end_other('Hiabc', 'abc')\n",
        "end_other('AbC', 'HiaBc')\n",
        "end_other('abc', 'abXabc')\n",
        "\n",
        "def doubleChar(str):\n",
        "    new_str = \"\"\n",
        "  \n",
        "    for i in range(len(str)):\n",
        "        new_str += str[i]*2\n",
        "    return new_str\n",
        "  \n",
        "doubleChar('The')\n",
        "doubleChar('AAbb')\n",
        "doubleChar('Hi-There')\n",
        "\n"
      ],
      "execution_count": 269,
      "outputs": [
        {
          "output_type": "execute_result",
          "data": {
            "text/plain": [
              "'HHii--TThheerree'"
            ]
          },
          "metadata": {
            "tags": []
          },
          "execution_count": 269
        }
      ]
    }
  ]
}